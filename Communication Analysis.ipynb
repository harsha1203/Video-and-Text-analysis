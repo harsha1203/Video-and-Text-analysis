{
 "cells": [
  {
   "cell_type": "code",
   "execution_count": 1,
   "metadata": {},
   "outputs": [],
   "source": [
    "text= \"enamor computer science engineers from Bennett University and passionate about technology and how it is transforming life in the past four years I have had an experience as an intern at associate analyst in IT operations at McKinsey and company machine learning at Genpact and internet of things art ideas have been uploaded by my company mental for my team collaboration and communication technical software development product development business strategy and quick learning ability I've been fortunate to hold leadership positions both at school and college and happiest when able to deliver in successfully I am a dynamic person in the sense that I love to create and I am always coming up the more efficient solution I would love to begin my journey at your organisation\""
   ]
  },
  {
   "cell_type": "code",
   "execution_count": 2,
   "metadata": {},
   "outputs": [
    {
     "name": "stderr",
     "output_type": "stream",
     "text": [
      "Downloading LanguageTool: 100%|█████████████████████████████████████████████████████| 190M/190M [00:17<00:00, 11.1MB/s]\n",
      "Unzipping C:\\Users\\harsh\\AppData\\Local\\Temp\\tmpd94929qp.zip to C:\\Users\\harsh\\.cache\\language_tool_python.\n",
      "Downloaded https://www.languagetool.org/download/LanguageTool-5.2.zip to C:\\Users\\harsh\\.cache\\language_tool_python.\n"
     ]
    }
   ],
   "source": [
    "import language_tool_python\n",
    "tool = language_tool_python.LanguageTool('en-US') ## use a local server (automatically set up), language English\n",
    "\n",
    "#text = \"Your the best but their are allso  good !\"\n",
    "matches = tool.check(text)"
   ]
  },
  {
   "cell_type": "code",
   "execution_count": 3,
   "metadata": {},
   "outputs": [
    {
     "data": {
      "text/plain": [
       "[Match({'ruleId': 'UPPERCASE_SENTENCE_START', 'message': 'This sentence does not start with an uppercase letter.', 'replacements': ['Enamor'], 'offsetInContext': 0, 'context': 'enamor computer science engineers from Bennett...', 'offset': 0, 'errorLength': 6, 'category': 'CASING', 'ruleIssueType': 'typographical', 'sentence': \"enamor computer science engineers from Bennett University and passionate about technology and how it is transforming life in the past four years I have had an experience as an intern at associate analyst in IT operations at McKinsey and company machine learning at Genpact and internet of things art ideas have been uploaded by my company mental for my team collaboration and communication technical software development product development business strategy and quick learning ability I've been fortunate to hold leadership positions both at school and college and happiest when able to deliver in successfully I am a dynamic person in the sense that I love to create and I am always coming up the more efficient solution I would love to begin my journey at your organisation\"}),\n",
       " Match({'ruleId': 'MORFOLOGIK_RULE_EN_US', 'message': 'Possible spelling mistake found.', 'replacements': ['Gen pact'], 'offsetInContext': 43, 'context': '...cKinsey and company machine learning at Genpact and internet of things art ideas have b...', 'offset': 265, 'errorLength': 7, 'category': 'TYPOS', 'ruleIssueType': 'misspelling', 'sentence': \"enamor computer science engineers from Bennett University and passionate about technology and how it is transforming life in the past four years I have had an experience as an intern at associate analyst in IT operations at McKinsey and company machine learning at Genpact and internet of things art ideas have been uploaded by my company mental for my team collaboration and communication technical software development product development business strategy and quick learning ability I've been fortunate to hold leadership positions both at school and college and happiest when able to deliver in successfully I am a dynamic person in the sense that I love to create and I am always coming up the more efficient solution I would love to begin my journey at your organisation\"}),\n",
       " Match({'ruleId': 'COMMA_COMPOUND_SENTENCE', 'message': 'Use a comma before ‘and’ if it connects two independent clauses (unless they are closely connected and short).', 'replacements': ['create, and'], 'offsetInContext': 43, 'context': '...amic person in the sense that I love to create and I am always coming up the more efficien...', 'offset': 662, 'errorLength': 10, 'category': 'PUNCTUATION', 'ruleIssueType': 'typographical', 'sentence': \"enamor computer science engineers from Bennett University and passionate about technology and how it is transforming life in the past four years I have had an experience as an intern at associate analyst in IT operations at McKinsey and company machine learning at Genpact and internet of things art ideas have been uploaded by my company mental for my team collaboration and communication technical software development product development business strategy and quick learning ability I've been fortunate to hold leadership positions both at school and college and happiest when able to deliver in successfully I am a dynamic person in the sense that I love to create and I am always coming up the more efficient solution I would love to begin my journey at your organisation\"}),\n",
       " Match({'ruleId': 'MORFOLOGIK_RULE_EN_US', 'message': 'Possible spelling mistake. ‘organisation’ is British English.', 'replacements': ['organization'], 'offsetInContext': 43, 'context': '... would love to begin my journey at your organisation', 'offset': 764, 'errorLength': 12, 'category': 'TYPOS', 'ruleIssueType': 'misspelling', 'sentence': \"enamor computer science engineers from Bennett University and passionate about technology and how it is transforming life in the past four years I have had an experience as an intern at associate analyst in IT operations at McKinsey and company machine learning at Genpact and internet of things art ideas have been uploaded by my company mental for my team collaboration and communication technical software development product development business strategy and quick learning ability I've been fortunate to hold leadership positions both at school and college and happiest when able to deliver in successfully I am a dynamic person in the sense that I love to create and I am always coming up the more efficient solution I would love to begin my journey at your organisation\"})]"
      ]
     },
     "execution_count": 3,
     "metadata": {},
     "output_type": "execute_result"
    }
   ],
   "source": [
    "matches"
   ]
  },
  {
   "cell_type": "code",
   "execution_count": 17,
   "metadata": {},
   "outputs": [
    {
     "name": "stdout",
     "output_type": "stream",
     "text": [
      "UPPERCASE_SENTENCE_START ['Enamor']\n",
      "MORFOLOGIK_RULE_EN_US ['Gen pact']\n",
      "COMMA_COMPOUND_SENTENCE ['create, and']\n",
      "MORFOLOGIK_RULE_EN_US ['organization']\n"
     ]
    }
   ],
   "source": [
    "import language_check\n",
    "tool = language_check.LanguageTool('en-US')\n",
    "t=len(matches)\n",
    "for i in range(0,t):\n",
    "    print(matches[i].ruleId,matches[i].replacements)"
   ]
  }
 ],
 "metadata": {
  "kernelspec": {
   "display_name": "Python 3",
   "language": "python",
   "name": "python3"
  },
  "language_info": {
   "codemirror_mode": {
    "name": "ipython",
    "version": 3
   },
   "file_extension": ".py",
   "mimetype": "text/x-python",
   "name": "python",
   "nbconvert_exporter": "python",
   "pygments_lexer": "ipython3",
   "version": "3.8.5"
  }
 },
 "nbformat": 4,
 "nbformat_minor": 4
}
