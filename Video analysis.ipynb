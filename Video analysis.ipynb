{
 "cells": [
  {
   "cell_type": "markdown",
   "metadata": {},
   "source": [
    "## Get images from video"
   ]
  },
  {
   "cell_type": "code",
   "execution_count": 1,
   "metadata": {},
   "outputs": [
    {
     "name": "stdout",
     "output_type": "stream",
     "text": [
      "WARNING:tensorflow:From C:\\external_software\\anaconda3\\lib\\site-packages\\tensorflow\\python\\compat\\v2_compat.py:96: disable_resource_variables (from tensorflow.python.ops.variable_scope) is deprecated and will be removed in a future version.\n",
      "Instructions for updating:\n",
      "non-resource variables are not supported in the long term\n"
     ]
    }
   ],
   "source": [
    "import cv2\n",
    "import numpy\n",
    "import glob\n",
    "from fer import FER\n",
    "\n",
    "folders = glob.glob('C:\\\\Users\\\\harsh\\\\Desktop\\\\video_analytics\\\\data\\\\')\n",
    "imagenames_list = []\n",
    "for folder in folders:\n",
    "    for f in glob.glob(folder+'/*.jpg'):\n",
    "        imagenames_list.append(f)\n",
    "\n",
    "read_images = []        \n",
    "for image in imagenames_list:\n",
    "    read_images.append(cv2.imread(image, cv2.IMREAD_COLOR))"
   ]
  },
  {
   "cell_type": "markdown",
   "metadata": {},
   "source": [
    "## Number of images extracted"
   ]
  },
  {
   "cell_type": "code",
   "execution_count": 15,
   "metadata": {},
   "outputs": [
    {
     "data": {
      "text/plain": [
       "1770"
      ]
     },
     "execution_count": 15,
     "metadata": {},
     "output_type": "execute_result"
    }
   ],
   "source": [
    "len(read_images)"
   ]
  },
  {
   "cell_type": "markdown",
   "metadata": {},
   "source": [
    "## Analysis of face expressions"
   ]
  },
  {
   "cell_type": "code",
   "execution_count": null,
   "metadata": {},
   "outputs": [],
   "source": [
    "import os\n",
    "for i in range(len(read_images)):\n",
    "    detector = FER(mtcnn=True)\n",
    "    img=read_images[i]\n",
    "    result = detector.detect_emotions(img)\n",
    "    bounding_box = result[0][\"box\"]\n",
    "    emotions = result[0][\"emotions\"]\n",
    "    #Bounding around face is drawn\n",
    "    cv2.rectangle(img,(bounding_box[0], bounding_box[1]), \n",
    "                  (bounding_box[0] + bounding_box[2], bounding_box[1] + bounding_box[3]),(0, 155, 255), 2,)\n",
    "    for idx, (emotion, score) in enumerate(emotions.items()):\n",
    "        color = (211, 211, 211) if score < 0.01 else (255, 0, 0)\n",
    "        emotion_score = \"{}: {}\".format(\n",
    "            emotion, \"{:.2f}\".format(score) if score > 0.01 else \"\")\n",
    "        cv2.putText(img,emotion_score, (bounding_box[0], bounding_box[1] + \n",
    "                                        bounding_box[3] + 30 + idx * 15),\n",
    "                                        cv2.FONT_HERSHEY_SIMPLEX,0.5,color,1,cv2.LINE_AA,)\n",
    "    cv2.imwrite(os.path.join(r\"C:\\\\Users\\\\harsh\\\\Desktop\\\\video_analytics\\\\images\\\\\", \"frame{:d}.jpg\".format(i)), img)"
   ]
  },
  {
   "cell_type": "code",
   "execution_count": null,
   "metadata": {},
   "outputs": [],
   "source": []
  }
 ],
 "metadata": {
  "kernelspec": {
   "display_name": "Python 3",
   "language": "python",
   "name": "python3"
  },
  "language_info": {
   "codemirror_mode": {
    "name": "ipython",
    "version": 3
   },
   "file_extension": ".py",
   "mimetype": "text/x-python",
   "name": "python",
   "nbconvert_exporter": "python",
   "pygments_lexer": "ipython3",
   "version": "3.8.5"
  }
 },
 "nbformat": 4,
 "nbformat_minor": 4
}
